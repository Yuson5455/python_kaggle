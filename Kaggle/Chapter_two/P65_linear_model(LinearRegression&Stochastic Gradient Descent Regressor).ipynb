{
 "cells": [
  {
   "cell_type": "code",
   "execution_count": 1,
   "metadata": {},
   "outputs": [],
   "source": [
    "from sklearn.datasets import load_boston"
   ]
  },
  {
   "cell_type": "code",
   "execution_count": 2,
   "metadata": {},
   "outputs": [],
   "source": [
    "data = load_boston() # type(data):sklearn.utils.Bunch"
   ]
  },
  {
   "cell_type": "markdown",
   "metadata": {},
   "source": [
    "* data.data.shape : (506, 13)\n",
    "* data.target.shape: (506,)\n",
    "* data.feature_names :array(['CRIM', 'ZN', 'INDUS', 'CHAS', 'NOX', 'RM', 'AGE', 'DIS', 'RAD', 'TAX', 'PTRATIO', 'B', 'LSTAT'], dtype='<U7')\n",
    "* type(data.data):numpy.ndarray\n",
    "* type(data.target):numpy.ndarray"
   ]
  },
  {
   "cell_type": "code",
   "execution_count": 3,
   "metadata": {},
   "outputs": [
    {
     "data": {
      "text/plain": [
       "array([[6.3200e-03, 1.8000e+01, 2.3100e+00, ..., 1.5300e+01, 3.9690e+02,\n",
       "        4.9800e+00],\n",
       "       [2.7310e-02, 0.0000e+00, 7.0700e+00, ..., 1.7800e+01, 3.9690e+02,\n",
       "        9.1400e+00],\n",
       "       [2.7290e-02, 0.0000e+00, 7.0700e+00, ..., 1.7800e+01, 3.9283e+02,\n",
       "        4.0300e+00],\n",
       "       ...,\n",
       "       [6.0760e-02, 0.0000e+00, 1.1930e+01, ..., 2.1000e+01, 3.9690e+02,\n",
       "        5.6400e+00],\n",
       "       [1.0959e-01, 0.0000e+00, 1.1930e+01, ..., 2.1000e+01, 3.9345e+02,\n",
       "        6.4800e+00],\n",
       "       [4.7410e-02, 0.0000e+00, 1.1930e+01, ..., 2.1000e+01, 3.9690e+02,\n",
       "        7.8800e+00]])"
      ]
     },
     "execution_count": 3,
     "metadata": {},
     "output_type": "execute_result"
    }
   ],
   "source": [
    "data.data"
   ]
  },
  {
   "cell_type": "code",
   "execution_count": 4,
   "metadata": {},
   "outputs": [],
   "source": [
    "from sklearn.model_selection import train_test_split\n",
    "X=data.data\n",
    "y=data.target\n",
    "X_train,X_test,y_train,y_test=train_test_split(X,y,test_size=0.25,random_state=33)"
   ]
  },
  {
   "cell_type": "markdown",
   "metadata": {},
   "source": [
    "* y.shape :(506,)\n",
    "* y_train.shape:(379,)\n",
    "* y_test.shape :(127,)"
   ]
  },
  {
   "cell_type": "code",
   "execution_count": 5,
   "metadata": {},
   "outputs": [
    {
     "name": "stdout",
     "output_type": "stream",
     "text": [
      "The max target value is : 50.0\n",
      "The min target value is : 5.0\n",
      "The average target value is : 22.532806324110677\n"
     ]
    }
   ],
   "source": [
    "import numpy as np\n",
    "print(\"The max target value is : \"+str(np.max(data.target)))\n",
    "print(\"The min target value is : \"+str(np.min(data.target)))\n",
    "print(\"The average target value is : \"+str(np.mean(data.target)))\n",
    "# 可以看到，预测目标 房价之间的差异较大，因此需要对feature ＆ target 进行标准化处理"
   ]
  },
  {
   "cell_type": "code",
   "execution_count": 6,
   "metadata": {},
   "outputs": [],
   "source": [
    "from sklearn.preprocessing import StandardScaler\n",
    "ss_X=StandardScaler()\n",
    "ss_y=StandardScaler()\n",
    "X_train=ss_X.fit_transform(X_train)\n",
    "X_test=ss_X.transform(X_test)"
   ]
  },
  {
   "cell_type": "code",
   "execution_count": 7,
   "metadata": {
    "scrolled": true
   },
   "outputs": [],
   "source": [
    "y_train=ss_y.fit_transform(y_train.reshape(-1,1))\n",
    "y_test=ss_y.transform(y_test.reshape(-1,1)) \n",
    "# -1在这里应该可以理解为一个正整数通配符，它代替任何整数。\n",
    "# 指定为-1的时候，其行或列会随机分配一个数据。"
   ]
  },
  {
   "cell_type": "markdown",
   "metadata": {},
   "source": [
    "* y_train.shape:(379, 1)\n",
    "* y_test.shape : (127, 1)\n",
    "* y.reshape(-1,1).shape : (506, 1)"
   ]
  },
  {
   "cell_type": "markdown",
   "metadata": {},
   "source": [
    "## 👇线性回归器 LinearRegression"
   ]
  },
  {
   "cell_type": "code",
   "execution_count": 8,
   "metadata": {},
   "outputs": [],
   "source": [
    "from sklearn.linear_model import LinearRegression \n",
    "# 使用默认配置初始化 线性回归器 LinearRegression\n",
    "lr=LinearRegression()"
   ]
  },
  {
   "cell_type": "code",
   "execution_count": 9,
   "metadata": {},
   "outputs": [],
   "source": [
    "lr.fit(X_train,y_train)\n",
    "lr_y_pred=lr.predict(X_test)"
   ]
  },
  {
   "cell_type": "markdown",
   "metadata": {},
   "source": [
    "## 👇线性回归器 SGDRegressor"
   ]
  },
  {
   "cell_type": "code",
   "execution_count": 10,
   "metadata": {},
   "outputs": [],
   "source": [
    "from sklearn.linear_model import SGDRegressor\n",
    "\n",
    "# 使用默认配置初始化 线性回归器 SGDRegressor\n",
    "sgdr=SGDRegressor(max_iter=1000, tol=1e-3)# tol是什么\n"
   ]
  },
  {
   "cell_type": "code",
   "execution_count": 11,
   "metadata": {},
   "outputs": [
    {
     "data": {
      "text/plain": [
       "(379, 1)"
      ]
     },
     "execution_count": 11,
     "metadata": {},
     "output_type": "execute_result"
    }
   ],
   "source": [
    "y_train.shape"
   ]
  },
  {
   "cell_type": "code",
   "execution_count": 12,
   "metadata": {},
   "outputs": [],
   "source": [
    "# numpy.ravel : Return a contiguous flattened array.an array of the same subtype as a, with shape (a.size,)\n",
    "sgdr.fit(X_train,y_train.ravel()) \n",
    "sgdr_y_pred=sgdr.predict(X_test)\n",
    "# 版本不同，SGDRegressor所默认设置的迭代次数也不同，既然这样为了消除这个提醒，\n",
    "# 我们可以在sgdr = SGDRegressor()中把迭代次数重新设置一下sgdr = SGDRegressor(max_iter=5)\n",
    "# 本文设置最大迭代次数为5，也可以设置成1000，这个根据自己的需求设置\n"
   ]
  },
  {
   "cell_type": "markdown",
   "metadata": {},
   "source": [
    "### 👇使用三种回归评测机制，以及两种调用R-squared评价模块的方法，对本节模型的回归性能做出评价"
   ]
  },
  {
   "cell_type": "code",
   "execution_count": 13,
   "metadata": {},
   "outputs": [],
   "source": [
    "# 从sklearn.metrics依次导入r2_score,mean_squared_error,mean_absolute_error\n",
    "from sklearn.metrics import r2_score,mean_absolute_error,mean_squared_error"
   ]
  },
  {
   "cell_type": "code",
   "execution_count": 14,
   "metadata": {},
   "outputs": [
    {
     "name": "stdout",
     "output_type": "stream",
     "text": [
      "The value of dafault measurement of LinearRegression is0.675795501452948\n",
      "The value of R-squared of LinearRegression is : 0.675795501452948\n",
      "The mean squared error of LinearRegression is : 25.139236520353457\n",
      "The mean absolute error of LinearRegression is : 3.5325325437053983\n"
     ]
    }
   ],
   "source": [
    "# 使用LinearRegression模型自带的评估模块，并输出评估结果\n",
    "print(\"The value of dafault measurement of LinearRegression is\"+str(lr.score(X=X_test,y=y_test)))\n",
    "\n",
    "# 使用r2_score模块，并输出评估结果\n",
    "print('The value of R-squared of LinearRegression is : '+str(r2_score(y_true=y_test,y_pred=lr_y_pred)))\n",
    "\n",
    "# 使用mean_squared_error模块，并输出评估结果\n",
    "print('The mean squared error of LinearRegression is : '+str(mean_squared_error(y_true=ss_y.inverse_transform(y_test),\n",
    "                                                                                y_pred=ss_y.inverse_transform(lr_y_pred))))\n",
    "# 使用mean_absolute_error模块，并输出评估结果\n",
    "print('The mean absolute error of LinearRegression is : '+str(mean_absolute_error(y_true=ss_y.inverse_transform(y_test),\n",
    "                                                                                 y_pred=ss_y.inverse_transform(lr_y_pred))))"
   ]
  },
  {
   "cell_type": "markdown",
   "metadata": {},
   "source": [
    "* 可以看出前两种是等价的，后续有关回归模型的评价，我们会都会采用第一种方式，即回归模型自带的评估模块来完成性能的评估\n",
    "* 另外也可以看出，尽管三种评价方式R-squared,MSE,MAE在具体评估结果上不同，但是在评价总体优劣程度上的趋势上是一致的。"
   ]
  },
  {
   "cell_type": "code",
   "execution_count": 15,
   "metadata": {},
   "outputs": [
    {
     "name": "stdout",
     "output_type": "stream",
     "text": [
      "The value of default measurement of SGDRegressor is :0.6690607414549097\n",
      "The value of R-squared of Stochastic Gradient Descent Regressor is : 0.6690607414549097\n",
      "The mean squared error of  Stochastic Gradient Descent Regressor is : 25.6614585291697\n",
      "The mean absolute error of  Stochastic Gradient Descent Regressor is : 3.518428342898226\n"
     ]
    }
   ],
   "source": [
    "# 使用SGDRegressor 模型自带的评估模块，并输出评估结果\n",
    "print('The value of default measurement of SGDRegressor is :'+str(sgdr.score(X_test,y_test)))\n",
    "\n",
    "# 使用r2_score模块，并输出结果\n",
    "print('The value of R-squared of Stochastic Gradient Descent Regressor is : '+str(r2_score(y_true=y_test,y_pred=sgdr_y_pred)))\n",
    "\n",
    "# 使用mean_squared_error模块，并输出评估结果\n",
    "print('The mean squared error of  Stochastic Gradient Descent Regressor is : '+str(mean_squared_error(y_true=ss_y.inverse_transform(y_test),\n",
    "                                                                                y_pred=ss_y.inverse_transform(sgdr_y_pred))))\n",
    "# 使用mean_absolute_error模块，并输出评估结果\n",
    "print('The mean absolute error of  Stochastic Gradient Descent Regressor is : '+str(mean_absolute_error(y_true=ss_y.inverse_transform(y_test),\n",
    "                                                                                 y_pred=ss_y.inverse_transform(sgdr_y_pred))))"
   ]
  },
  {
   "cell_type": "code",
   "execution_count": null,
   "metadata": {},
   "outputs": [],
   "source": []
  },
  {
   "cell_type": "code",
   "execution_count": null,
   "metadata": {},
   "outputs": [],
   "source": []
  }
 ],
 "metadata": {
  "kernelspec": {
   "display_name": "Python 3",
   "language": "python",
   "name": "python3"
  },
  "language_info": {
   "codemirror_mode": {
    "name": "ipython",
    "version": 3
   },
   "file_extension": ".py",
   "mimetype": "text/x-python",
   "name": "python",
   "nbconvert_exporter": "python",
   "pygments_lexer": "ipython3",
   "version": "3.7.0"
  }
 },
 "nbformat": 4,
 "nbformat_minor": 2
}
